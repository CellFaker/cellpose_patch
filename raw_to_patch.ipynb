{
 "cells": [
  {
   "cell_type": "code",
   "execution_count": 71,
   "metadata": {},
   "outputs": [],
   "source": [
    "#Yu Yamaoka\n",
    "#crop段階でフォルダPathの指定が関数内部で行ってしまっている点に注意．\n",
    "\n",
    "#Path Define\n",
    "day = \"0\"\n",
    "\n",
    "#Parameter Define\n",
    "model_type = 'cyto'#https://github.com/MouseLand/cellpose/blob/main/cellpose/models.py#L19~L20\n",
    "chan = [0,0]#チャンネル https://github.com/MouseLand/cellpose/blob/main/cellpose/models.py#L209"
   ]
  },
  {
   "cell_type": "code",
   "execution_count": 78,
   "metadata": {},
   "outputs": [],
   "source": [
    "#Function Define\n",
    "from cellpose import models, io\n",
    "import matplotlib.pyplot as plt\n",
    "import numpy as np\n",
    "import cv2\n",
    "import os\n",
    "\n",
    "# DEFINE CELLPOSE MODEL\n",
    "# model_type='cyto' or model_type='nuclei'\n",
    "def img_to_cellpose(img_path, model_type, chan):\n",
    "    \"\"\"\n",
    "    Input:\n",
    "        img_path : (string) Image file PATH\n",
    "    Return:\n",
    "        mask : [width height]\n",
    "    \"\"\"\n",
    "    model = models.Cellpose(gpu=False, model_type=model_type)\n",
    "    img = io.imread(img_path)\n",
    "    mask, flows, styles, diams = model.eval(img, diameter=None, channels=chan)\n",
    "\n",
    "    # save results so you can load in gui\n",
    "    #io.masks_flows_to_seg(img, masks, flows, diams, img_path, chan)\n",
    "\n",
    "    # save results as png\n",
    "    #plt.imsave(\"test.png\",masks)\n",
    "\n",
    "    return mask\n",
    "\n",
    "#mask画像をMaskRCNNが読み込めるデータセットにする。\n",
    "def obj_detection(mask, class_id:int):\n",
    "    \"\"\"\n",
    "    Input:\n",
    "        mask : [width, height](ndarray), image data\n",
    "        class_id : int , class id(ex : 1day -> 1)\n",
    "    Return:\n",
    "        mask : [width, height, n], n is object num.\n",
    "        cls_idxs : [n(int)]\n",
    "    \"\"\"\n",
    "    data = mask\n",
    "    labels = []\n",
    "    for label in np.unique(data):\n",
    "        #: ラベルID==0は背景\n",
    "        if label == 0:\n",
    "            continue\n",
    "        else:\n",
    "            labels.append(label)\n",
    "\n",
    "    if len(labels) == 0:\n",
    "        #: 対象オブジェクトがない場合はNone\n",
    "        return None, None\n",
    "    else:\n",
    "        mask = np.zeros((mask.shape)+(len(labels),), dtype=np.uint8)\n",
    "        for n, label in enumerate(labels):\n",
    "            mask[:, :, n] = np.uint8(data == label)\n",
    "        cls_idxs = np.ones([mask.shape[-1]], dtype=np.int32) * class_id\n",
    "\n",
    "        return mask, cls_idxs\n",
    "\n",
    "def mask_to_patch(mask, img_path, size=32):\n",
    "    \"\"\"\n",
    "    Input:\n",
    "        mask : [n(objnum), width, height], n is object num.\n",
    "    Return:\n",
    "        saved inference data at file PATH.\n",
    "    \"\"\"\n",
    "    #各mask-objのBBOXの重心点を求めて切り抜き\n",
    "    img = cv2.imread(img_path)\n",
    "    w, h, _ = img.shape\n",
    "    for i in range(len(mask)):\n",
    "        pos = np.where(mask[i]==1)\n",
    "        xmin = np.min(pos[1])\n",
    "        xmax = np.max(pos[1])\n",
    "        ymin = np.min(pos[0])\n",
    "        ymax = np.max(pos[0])\n",
    "        \n",
    "        x1 = (xmin + xmax)//2 - size\n",
    "        x2 = (xmin + xmax)//2 + size\n",
    "        y1 = (ymin + ymax)//2 - size\n",
    "        y2 = (ymin + ymax)//2 + size\n",
    "        \n",
    "        if x1<0:\n",
    "            x1 = 0\n",
    "            x2 = size * 2\n",
    "        if x2>w:#配列外アクセスを防ぐ\n",
    "            x1 = w - (size * 2 + 1)\n",
    "            x2 = w - 1\n",
    "        \n",
    "        if y1<0:\n",
    "            y1 = 0\n",
    "            y2 = size * 2\n",
    "        if y2>h:#配列外アクセスを防ぐ\n",
    "            y1 = h - (size * 2 + 1)\n",
    "            y2 = h - 1\n",
    "        \n",
    "        crop_img = img[y1:y2, x1:x2]\n",
    "        filename  = os.path.basename(img_path)\n",
    "        if(os.path.exists('crop_data/day' +str(day))==False):\n",
    "            os.mkdir('crop_data/day' +str(day))\n",
    "        save_path = os.path.join('crop_data/day' +str(day), str(i) + \"_\" + filename)\n",
    "        cv2.imwrite(save_path, crop_img)\n",
    "\n",
    "   "
   ]
  },
  {
   "cell_type": "code",
   "execution_count": 81,
   "metadata": {},
   "outputs": [
    {
     "name": "stderr",
     "output_type": "stream",
     "text": [
      " 11%|█▏        | 30/261 [02:22<18:21,  4.77s/it]/a/yu-yamaoka/anaconda3/envs/cell/lib/python3.7/site-packages/numpy/core/fromnumeric.py:3441: RuntimeWarning: Mean of empty slice.\n",
      "  out=out, **kwargs)\n",
      "/a/yu-yamaoka/anaconda3/envs/cell/lib/python3.7/site-packages/numpy/core/_methods.py:189: RuntimeWarning: invalid value encountered in double_scalars\n",
      "  ret = ret.dtype.type(ret / rcount)\n",
      " 12%|█▏        | 31/261 [02:24<15:55,  4.15s/it]"
     ]
    },
    {
     "name": "stdout",
     "output_type": "stream",
     "text": [
      "../data/cut_patch512512/7day/397day_No2R_220424.tif.png\n"
     ]
    },
    {
     "name": "stderr",
     "output_type": "stream",
     "text": [
      "100%|██████████| 261/261 [22:27<00:00,  5.16s/it]\n"
     ]
    }
   ],
   "source": [
    "#main\n",
    "from glob import glob\n",
    "from tqdm import tqdm\n",
    "files = glob(\"../data/cut_patch512512/\"+str(day)+\"day/*.png\")\n",
    "\n",
    "for file in tqdm(files):\n",
    "    try:\n",
    "        test_path = file\n",
    "        mask = img_to_cellpose(test_path, model_type, chan)\n",
    "        mask, _ = obj_detection(mask, 1)\n",
    "        mask_trans = mask.transpose(2, 0 ,1)\n",
    "        mask_to_patch(mask_trans, test_path, size=32)\n",
    "    except:\n",
    "        print(file)\n"
   ]
  },
  {
   "cell_type": "code",
   "execution_count": null,
   "metadata": {},
   "outputs": [],
   "source": []
  }
 ],
 "metadata": {
  "kernelspec": {
   "display_name": "cell",
   "language": "python",
   "name": "python3"
  },
  "language_info": {
   "codemirror_mode": {
    "name": "ipython",
    "version": 3
   },
   "file_extension": ".py",
   "mimetype": "text/x-python",
   "name": "python",
   "nbconvert_exporter": "python",
   "pygments_lexer": "ipython3",
   "version": "3.7.13"
  },
  "orig_nbformat": 4,
  "vscode": {
   "interpreter": {
    "hash": "85aab78b62a0b0b7bea0a736b87cc2157e17da06611f44e6d8d7fe8688685325"
   }
  }
 },
 "nbformat": 4,
 "nbformat_minor": 2
}
